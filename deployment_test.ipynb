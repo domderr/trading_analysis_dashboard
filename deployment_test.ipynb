import dash

import dash_core_components as dcc
import dash_html_components as html
from dash.dependencies import Input, Output
 

app = dash.Dash()

server = app.server
 
app.layout = html.Div(['Hello World'], style={'width':'50%'})
 

if __name__ == '__main__':
    app.run_server()
