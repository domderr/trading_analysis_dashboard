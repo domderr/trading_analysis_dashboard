{
 "cells": [
  {
   "cell_type": "code",
   "execution_count": null,
   "metadata": {},
   "outputs": [],
   "source": [
    "import dash\n",
    "import dash_auth\n",
    "import dash_core_components as dcc\n",
    "import dash_html_components as html\n",
    "from dash.dependencies import Input, Output\n",
    " \n",
    "USERNAME_PASSWORD_PAIRS = [\n",
    "    ['JamesBond', '007'],['LouisArmstrong', 'satchmo']\n",
    "]\n",
    " \n",
    "app = dash.Dash()\n",
    "auth = dash_auth.BasicAuth(app,USERNAME_PASSWORD_PAIRS)\n",
    "server = app.server\n",
    " \n",
    "app.layout = html.Div([\n",
    "    dcc.RangeSlider(\n",
    "        id='range-slider',\n",
    "        min=-5,\n",
    "        max=6,\n",
    "        marks={i:str(i) for i in range(-5, 7)},\n",
    "        value=[-3, 4]\n",
    "    ),\n",
    "    html.H1(id='product')  # this is the output\n",
    "], style={'width':'50%'})\n",
    " \n",
    "@app.callback(\n",
    "    Output('product', 'children'),\n",
    "    [Input('range-slider', 'value')])\n",
    "def update_value(value_list):\n",
    "    return value_list[0]*value_list[1]\n",
    " \n",
    "if __name__ == '__main__':\n",
    "    app.run_server()\n"
   ]
  }
 ],
 "metadata": {
  "kernelspec": {
   "display_name": "Python 3",
   "language": "python",
   "name": "python3"
  },
  "language_info": {
   "codemirror_mode": {
    "name": "ipython",
    "version": 3
   },
   "file_extension": ".py",
   "mimetype": "text/x-python",
   "name": "python",
   "nbconvert_exporter": "python",
   "pygments_lexer": "ipython3",
   "version": "3.8.5"
  }
 },
 "nbformat": 4,
 "nbformat_minor": 4
}
